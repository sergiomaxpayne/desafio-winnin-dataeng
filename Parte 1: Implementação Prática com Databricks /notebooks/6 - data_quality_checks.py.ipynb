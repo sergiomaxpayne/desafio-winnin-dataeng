{
 "cells": [
  {
   "cell_type": "markdown",
   "metadata": {
    "application/vnd.databricks.v1+cell": {
     "cellMetadata": {
      "byteLimit": 2048000,
      "rowLimit": 10000
     },
     "inputWidgets": {},
     "nuid": "b0ab8eb0-d461-457e-a68d-c6df6076397e",
     "showTitle": false,
     "tableResultSettingsMap": {},
     "title": ""
    }
   },
   "source": [
    "# # \uD83E\uDDEA Notebook: Data Quality Checks\n",
    "# \n",
    "# Este notebook executa verificações de qualidade de dados nas tabelas processadas."
   ]
  },
  {
   "cell_type": "code",
   "execution_count": 0,
   "metadata": {
    "application/vnd.databricks.v1+cell": {
     "cellMetadata": {
      "byteLimit": 2048000,
      "rowLimit": 10000
     },
     "inputWidgets": {},
     "nuid": "237bec2d-4ea9-46c5-8f18-49fa503320d0",
     "showTitle": false,
     "tableResultSettingsMap": {},
     "title": ""
    }
   },
   "outputs": [],
   "source": [
    "from pyspark.sql import SparkSession\n",
    "from pyspark.sql import functions as F"
   ]
  },
  {
   "cell_type": "code",
   "execution_count": 0,
   "metadata": {
    "application/vnd.databricks.v1+cell": {
     "cellMetadata": {
      "byteLimit": 2048000,
      "rowLimit": 10000
     },
     "inputWidgets": {},
     "nuid": "8ae95c7b-ccea-4a3f-a21a-024111a7dd06",
     "showTitle": false,
     "tableResultSettingsMap": {},
     "title": ""
    }
   },
   "outputs": [],
   "source": [
    "spark = SparkSession.builder.getOrCreate()"
   ]
  },
  {
   "cell_type": "markdown",
   "metadata": {
    "application/vnd.databricks.v1+cell": {
     "cellMetadata": {
      "byteLimit": 2048000,
      "rowLimit": 10000
     },
     "inputWidgets": {},
     "nuid": "7957de4f-fef4-46e5-a6b1-0407c06624d4",
     "showTitle": false,
     "tableResultSettingsMap": {},
     "title": ""
    }
   },
   "source": [
    "# ## \uD83D\uDCCF Definição das regras de qualidade\n",
    "# \n",
    "### Cada tabela tem um conjunto de colunas esperadas que serão validadas.\n",
    "### Caso alguma coluna não exista, será mostrado um aviso em vez de erro."
   ]
  },
  {
   "cell_type": "code",
   "execution_count": 0,
   "metadata": {
    "application/vnd.databricks.v1+cell": {
     "cellMetadata": {
      "byteLimit": 2048000,
      "rowLimit": 10000
     },
     "inputWidgets": {},
     "nuid": "8fa7ea70-74d6-4216-9afd-30c56846443a",
     "showTitle": false,
     "tableResultSettingsMap": {},
     "title": ""
    }
   },
   "outputs": [],
   "source": [
    "rules = {\n",
    "    \"default.posts_creator\": [\"creator_id\", \"title\", \"likes\", \"views\", \"post_id\"],\n",
    "    \"default.users_yt\": [\"user_id\", \"wiki_page\"],\n",
    "    \"default.creators_scrape_wiki\": [\"page_name\", \"url\"]\n",
    "}"
   ]
  },
  {
   "cell_type": "markdown",
   "metadata": {
    "application/vnd.databricks.v1+cell": {
     "cellMetadata": {
      "byteLimit": 2048000,
      "rowLimit": 10000
     },
     "inputWidgets": {},
     "nuid": "1a40d8c2-91ea-4733-b2c4-bea2c6d496ac",
     "showTitle": false,
     "tableResultSettingsMap": {},
     "title": ""
    }
   },
   "source": [
    "# ## \uD83D\uDD0D Execução das validações\n",
    "# \n",
    "### Para cada tabela:\n",
    "### - Verifica se existe no catálogo.  \n",
    "### - Checa valores nulos por coluna.  \n",
    "### - Se `post_id` não existir, cria um ID sintético."
   ]
  },
  {
   "cell_type": "markdown",
   "metadata": {
    "application/vnd.databricks.v1+cell": {
     "cellMetadata": {
      "byteLimit": 2048000,
      "rowLimit": 10000
     },
     "inputWidgets": {},
     "nuid": "650bb1d5-9810-413d-bce1-1ae75e03331d",
     "showTitle": false,
     "tableResultSettingsMap": {},
     "title": ""
    }
   },
   "source": [
    "###Deixei uma com colunas erradas para exemplificar"
   ]
  },
  {
   "cell_type": "code",
   "execution_count": 0,
   "metadata": {
    "application/vnd.databricks.v1+cell": {
     "cellMetadata": {
      "byteLimit": 2048000,
      "rowLimit": 10000
     },
     "inputWidgets": {},
     "nuid": "dda8ea30-0c80-4103-986b-cdc194685a96",
     "showTitle": false,
     "tableResultSettingsMap": {},
     "title": ""
    }
   },
   "outputs": [
    {
     "output_type": "stream",
     "name": "stdout",
     "output_type": "stream",
     "text": [
      "\n\uD83D\uDD0E Validando tabela: default.posts_creator\n⚠️ Coluna post_id não encontrada, criando identificador sintético...\n   - Coluna creator_id: 0 valores nulos\n   - Coluna title: 0 valores nulos\n   - Coluna likes: 0 valores nulos\n   - Coluna views: 0 valores nulos\n   - Coluna post_id: 0 valores nulos\n   - Registros duplicados (post_id): 0\n\n\uD83D\uDD0E Validando tabela: default.users_yt\n   - Coluna user_id: 0 valores nulos\n   - Coluna wiki_page: 0 valores nulos\n\n\uD83D\uDD0E Validando tabela: default.creators_scrape_wiki\n   ⚠️ Coluna page_name não encontrada nesta tabela. Colunas disponíveis: ['wiki_page']\n   ⚠️ Coluna url não encontrada nesta tabela. Colunas disponíveis: ['wiki_page']\n"
     ]
    }
   ],
   "source": [
    "for table, checks in rules.items():\n",
    "    print(f\"\\n\uD83D\uDD0E Validando tabela: {table}\")\n",
    "    try:\n",
    "        # Carregar a tabela\n",
    "        df = spark.table(table)\n",
    "        \n",
    "        # Se precisar materializar em serverless, evitar .cache()/.persist()\n",
    "        df = df.localCheckpoint()  \n",
    "        \n",
    "        # Criar post_id sintético se necessário\n",
    "        if \"post_id\" in checks and \"post_id\" not in df.columns:\n",
    "            print(\"⚠️ Coluna post_id não encontrada, criando identificador sintético...\")\n",
    "            df = df.withColumn(\"post_id\", F.monotonically_increasing_id())\n",
    "        \n",
    "        # Executa verificações de colunas\n",
    "        for col in checks:\n",
    "            if col in df.columns:\n",
    "                nulls = df.filter(F.col(col).isNull()).count()\n",
    "                print(f\"   - Coluna {col}: {nulls} valores nulos\")\n",
    "            else:\n",
    "                print(f\"   ⚠️ Coluna {col} não encontrada nesta tabela. Colunas disponíveis: {df.columns}\")\n",
    "                \n",
    "        # Exemplo extra: contagem de registros duplicados por post_id (se existir)\n",
    "        if \"post_id\" in df.columns:\n",
    "            dups = df.groupBy(\"post_id\").count().filter(\"count > 1\").count()\n",
    "            print(f\"   - Registros duplicados (post_id): {dups}\")\n",
    "            \n",
    "    except Exception as e:\n",
    "        print(f\"❌ Erro ao validar {table}: {e}\")"
   ]
  }
 ],
 "metadata": {
  "application/vnd.databricks.v1+notebook": {
   "computePreferences": null,
   "dashboards": [],
   "environmentMetadata": {
    "base_environment": "",
    "environment_version": "2"
   },
   "inputWidgetPreferences": null,
   "language": "python",
   "notebookMetadata": {
    "pythonIndentUnit": 4
   },
   "notebookName": "6 - data_quality_checks.py",
   "widgets": {}
  },
  "language_info": {
   "name": "python"
  }
 },
 "nbformat": 4,
 "nbformat_minor": 0
}