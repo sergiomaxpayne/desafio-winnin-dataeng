{
 "cells": [
  {
   "cell_type": "markdown",
   "metadata": {
    "application/vnd.databricks.v1+cell": {
     "cellMetadata": {},
     "inputWidgets": {},
     "nuid": "5d34ae15-43ec-497d-b089-a84fcb0665d8",
     "showTitle": false,
     "tableResultSettingsMap": {},
     "title": ""
    }
   },
   "source": [
    "# \uD83D\uDCD8 Notebook: Criação da Tabela `users_yt` a partir da Wikipedia API\n",
    "Este notebook tem como objetivo extrair informações de usuários do YouTube presentes na Wikipedia e criar a tabela **`users_yt`** no Databricks.\n"
   ]
  },
  {
   "cell_type": "code",
   "execution_count": 0,
   "metadata": {
    "application/vnd.databricks.v1+cell": {
     "cellMetadata": {
      "byteLimit": 2048000,
      "rowLimit": 10000
     },
     "inputWidgets": {},
     "nuid": "931cf8a1-0650-416d-b1ed-a69a534ecb85",
     "showTitle": false,
     "tableResultSettingsMap": {},
     "title": ""
    }
   },
   "outputs": [],
   "source": [
    "import requests\n",
    "from pyspark.sql import SparkSession\n",
    "import re"
   ]
  },
  {
   "cell_type": "code",
   "execution_count": 0,
   "metadata": {
    "application/vnd.databricks.v1+cell": {
     "cellMetadata": {
      "byteLimit": 2048000,
      "rowLimit": 10000
     },
     "inputWidgets": {},
     "nuid": "d20adc3f-6274-4b08-9d3c-085c58faf49a",
     "showTitle": false,
     "tableResultSettingsMap": {},
     "title": ""
    }
   },
   "outputs": [],
   "source": [
    "spark = SparkSession.builder.getOrCreate()"
   ]
  },
  {
   "cell_type": "code",
   "execution_count": 0,
   "metadata": {
    "application/vnd.databricks.v1+cell": {
     "cellMetadata": {
      "byteLimit": 2048000,
      "rowLimit": 10000
     },
     "inputWidgets": {},
     "nuid": "df91c34b-0f06-4dff-873a-e4fed1f71757",
     "showTitle": false,
     "tableResultSettingsMap": {},
     "title": ""
    }
   },
   "outputs": [],
   "source": [
    "df_wiki = spark.table(\"default.creators_scrape_wiki\")\n",
    "wiki_pages = [row[\"wiki_page\"] for row in df_wiki.collect()]"
   ]
  },
  {
   "cell_type": "code",
   "execution_count": 0,
   "metadata": {
    "application/vnd.databricks.v1+cell": {
     "cellMetadata": {
      "byteLimit": 2048000,
      "rowLimit": 10000
     },
     "inputWidgets": {},
     "nuid": "74039e9a-ed02-4809-a513-886c9f11970d",
     "showTitle": false,
     "tableResultSettingsMap": {},
     "title": ""
    }
   },
   "outputs": [],
   "source": [
    "def extract_user_id_from_wiki(page_name):\n",
    "    url = \"https://en.wikipedia.org/w/api.php\"\n",
    "    params = {\n",
    "        \"action\": \"parse\",\n",
    "        \"page\": page_name,\n",
    "        \"format\": \"json\"\n",
    "    }\n",
    "    try:\n",
    "        response = requests.get(\n",
    "            url,\n",
    "            params=params,\n",
    "            headers={\"User-Agent\": \"Mozilla/5.0\"}  # <- melhoria 1\n",
    "        )\n",
    "        if response.status_code != 200:\n",
    "            return None\n",
    "        html = response.json()[\"parse\"][\"text\"][\"*\"]\n",
    "\n",
    "        # Regex para pegar /user/, /channel/ ou /c/\n",
    "        match = re.search(\n",
    "            r'https:\\/\\/www\\.youtube\\.com\\/(?:user|channel|c)\\/([a-zA-Z0-9_-]+)',\n",
    "            html\n",
    "        )\n",
    "        if match:\n",
    "            return match.group(1)\n",
    "    except Exception as e:\n",
    "        print(f\"Erro ao processar {page_name}: {e}\")\n",
    "    return None"
   ]
  },
  {
   "cell_type": "code",
   "execution_count": 0,
   "metadata": {
    "application/vnd.databricks.v1+cell": {
     "cellMetadata": {
      "byteLimit": 2048000,
      "rowLimit": 10000
     },
     "inputWidgets": {},
     "nuid": "44dd11bf-60c7-4f05-bd92-ce2766d5d8e9",
     "showTitle": false,
     "tableResultSettingsMap": {},
     "title": ""
    }
   },
   "outputs": [],
   "source": [
    "users_data = []\n",
    "for page in wiki_pages:\n",
    "    user_id = extract_user_id_from_wiki(page)\n",
    "    if user_id:\n",
    "        users_data.append({\"wiki_page\": page, \"user_id\": user_id})"
   ]
  },
  {
   "cell_type": "code",
   "execution_count": 0,
   "metadata": {
    "application/vnd.databricks.v1+cell": {
     "cellMetadata": {
      "byteLimit": 2048000,
      "rowLimit": 10000
     },
     "inputWidgets": {},
     "nuid": "53aacc21-045e-4420-896e-06404fb00eb7",
     "showTitle": false,
     "tableResultSettingsMap": {},
     "title": ""
    }
   },
   "outputs": [],
   "source": [
    "df_users = spark.createDataFrame(users_data)"
   ]
  },
  {
   "cell_type": "code",
   "execution_count": 0,
   "metadata": {
    "application/vnd.databricks.v1+cell": {
     "cellMetadata": {
      "byteLimit": 2048000,
      "rowLimit": 10000
     },
     "inputWidgets": {},
     "nuid": "a813a735-f046-4847-bd79-7b8382d87e6c",
     "showTitle": false,
     "tableResultSettingsMap": {},
     "title": ""
    }
   },
   "outputs": [],
   "source": [
    "df_users.write.format(\"delta\").mode(\"overwrite\").saveAsTable(\"default.users_yt\")"
   ]
  },
  {
   "cell_type": "code",
   "execution_count": 0,
   "metadata": {
    "application/vnd.databricks.v1+cell": {
     "cellMetadata": {
      "byteLimit": 2048000,
      "rowLimit": 10000
     },
     "inputWidgets": {},
     "nuid": "c8975b2a-3bb0-4d2c-b7cd-e1e1ec1e3c62",
     "showTitle": false,
     "tableResultSettingsMap": {},
     "title": ""
    }
   },
   "outputs": [
    {
     "output_type": "stream",
     "name": "stdout",
     "output_type": "stream",
     "text": [
      "Tabela 'users_yt' criada com sucesso \uD83D\uDE80\n"
     ]
    }
   ],
   "source": [
    "print(\"Tabela 'users_yt' criada com sucesso \uD83D\uDE80\")"
   ]
  },
  {
   "cell_type": "code",
   "execution_count": 0,
   "metadata": {
    "application/vnd.databricks.v1+cell": {
     "cellMetadata": {
      "byteLimit": 2048000,
      "implicitDf": true,
      "rowLimit": 10000
     },
     "inputWidgets": {},
     "nuid": "d25a840c-05a7-42ed-929c-c274088457eb",
     "showTitle": false,
     "tableResultSettingsMap": {},
     "title": ""
    }
   },
   "outputs": [
    {
     "output_type": "display_data",
     "data": {
      "text/html": [
       "<style scoped>\n",
       "  .table-result-container {\n",
       "    max-height: 300px;\n",
       "    overflow: auto;\n",
       "  }\n",
       "  table, th, td {\n",
       "    border: 1px solid black;\n",
       "    border-collapse: collapse;\n",
       "  }\n",
       "  th, td {\n",
       "    padding: 5px;\n",
       "  }\n",
       "  th {\n",
       "    text-align: left;\n",
       "  }\n",
       "</style><div class='table-result-container'><table class='table-result'><thead style='background-color: white'><tr><th>user_id</th><th>wiki_page</th></tr></thead><tbody><tr><td>CanalKondZilla</td><td>KondZilla</td></tr><tr><td>luccasneto</td><td>Luccas_Neto</td></tr><tr><td>UCbCmjCuTUZos6Inko4u57UQ</td><td>Cocomelon</td></tr><tr><td>portadosfundos</td><td>Porta_dos_Fundos</td></tr><tr><td>felipeneto</td><td>Felipe_Neto</td></tr><tr><td>PewDiePie</td><td>PewDiePie</td></tr><tr><td>judsonlaipply</td><td>Judson_Laipply</td></tr><tr><td>raywilliamjohnson</td><td>Ray_William_Johnson</td></tr><tr><td>MoreZoella</td><td>Zoe_Sugg</td></tr></tbody></table></div>"
      ]
     },
     "metadata": {
      "application/vnd.databricks.v1+output": {
       "addedWidgets": {},
       "aggData": [],
       "aggError": "",
       "aggOverflow": false,
       "aggSchema": [],
       "aggSeriesLimitReached": false,
       "aggType": "",
       "arguments": {},
       "columnCustomDisplayInfos": {},
       "data": [
        [
         "CanalKondZilla",
         "KondZilla"
        ],
        [
         "luccasneto",
         "Luccas_Neto"
        ],
        [
         "UCbCmjCuTUZos6Inko4u57UQ",
         "Cocomelon"
        ],
        [
         "portadosfundos",
         "Porta_dos_Fundos"
        ],
        [
         "felipeneto",
         "Felipe_Neto"
        ],
        [
         "PewDiePie",
         "PewDiePie"
        ],
        [
         "judsonlaipply",
         "Judson_Laipply"
        ],
        [
         "raywilliamjohnson",
         "Ray_William_Johnson"
        ],
        [
         "MoreZoella",
         "Zoe_Sugg"
        ]
       ],
       "datasetInfos": [
        {
         "name": "_sqldf",
         "schema": {
          "fields": [
           {
            "metadata": {},
            "name": "user_id",
            "nullable": true,
            "type": "string"
           },
           {
            "metadata": {},
            "name": "wiki_page",
            "nullable": true,
            "type": "string"
           }
          ],
          "type": "struct"
         },
         "tableIdentifier": null,
         "typeStr": "pyspark.sql.connect.dataframe.DataFrame"
        }
       ],
       "dbfsResultPath": null,
       "isJsonSchema": true,
       "metadata": {
        "createTempViewForImplicitDf": true,
        "dataframeName": "_sqldf",
        "executionCount": 20
       },
       "overflow": false,
       "plotOptions": {
        "customPlotOptions": {},
        "displayType": "table",
        "pivotAggregation": null,
        "pivotColumns": null,
        "xColumns": null,
        "yColumns": null
       },
       "removedWidgets": [],
       "schema": [
        {
         "metadata": "{}",
         "name": "user_id",
         "type": "\"string\""
        },
        {
         "metadata": "{}",
         "name": "wiki_page",
         "type": "\"string\""
        }
       ],
       "type": "table"
      }
     },
     "output_type": "display_data"
    }
   ],
   "source": [
    "%sql\n",
    "SELECT * FROM default.users_yt"
   ]
  }
 ],
 "metadata": {
  "application/vnd.databricks.v1+notebook": {
   "computePreferences": {
    "hardware": {
     "accelerator": null,
     "gpuPoolId": null,
     "memory": null
    }
   },
   "dashboards": [],
   "environmentMetadata": {
    "base_environment": "",
    "environment_version": "2"
   },
   "inputWidgetPreferences": null,
   "language": "python",
   "notebookMetadata": {
    "mostRecentlyExecutedCommandWithImplicitDF": {
     "commandId": 8569227299910416,
     "dataframes": [
      "_sqldf"
     ]
    },
    "pythonIndentUnit": 4
   },
   "notebookName": "3 - create_table_user_yt_from_wikipedia_api.py",
   "widgets": {}
  },
  "language_info": {
   "name": "python"
  }
 },
 "nbformat": 4,
 "nbformat_minor": 0
}