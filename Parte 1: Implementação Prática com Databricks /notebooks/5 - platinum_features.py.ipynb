{
 "cells": [
  {
   "cell_type": "markdown",
   "metadata": {
    "application/vnd.databricks.v1+cell": {
     "cellMetadata": {},
     "inputWidgets": {},
     "nuid": "3434bd77-7000-484e-8575-f2144db7ede4",
     "showTitle": false,
     "tableResultSettingsMap": {},
     "title": ""
    }
   },
   "source": [
    "# \uD83D\uDC8E Notebook: Criação de Features - Camada Platinum\n",
    "Este notebook tem como objetivo consolidar métricas e atributos dos criadores, preparando uma tabela de **features na camada Platinum** para análises avançadas.\n"
   ]
  },
  {
   "cell_type": "code",
   "execution_count": 0,
   "metadata": {
    "application/vnd.databricks.v1+cell": {
     "cellMetadata": {
      "byteLimit": 2048000,
      "rowLimit": 10000
     },
     "inputWidgets": {},
     "nuid": "0ed1f955-b949-47e0-9d89-d7a06f8b8e5e",
     "showTitle": false,
     "tableResultSettingsMap": {},
     "title": ""
    }
   },
   "outputs": [],
   "source": [
    "from pyspark.sql import SparkSession\n",
    "from pyspark.sql import functions as F\n",
    "from pyspark.sql.window import Window"
   ]
  },
  {
   "cell_type": "code",
   "execution_count": 0,
   "metadata": {
    "application/vnd.databricks.v1+cell": {
     "cellMetadata": {
      "byteLimit": 2048000,
      "rowLimit": 10000
     },
     "inputWidgets": {},
     "nuid": "93f81cb0-282d-49f7-9387-aa49e78e6315",
     "showTitle": false,
     "tableResultSettingsMap": {},
     "title": ""
    }
   },
   "outputs": [],
   "source": [
    "spark = SparkSession.builder.getOrCreate()"
   ]
  },
  {
   "cell_type": "code",
   "execution_count": 0,
   "metadata": {
    "application/vnd.databricks.v1+cell": {
     "cellMetadata": {
      "byteLimit": 2048000,
      "rowLimit": 10000
     },
     "inputWidgets": {},
     "nuid": "d7ba395c-943c-4d10-b319-6c42720fdc2b",
     "showTitle": true,
     "tableResultSettingsMap": {},
     "title": "Tabelas"
    }
   },
   "outputs": [],
   "source": [
    "df_posts = spark.table(\"default.posts_creator\")\n",
    "df_wiki = spark.table(\"default.creators_scrape_wiki\")"
   ]
  },
  {
   "cell_type": "code",
   "execution_count": 0,
   "metadata": {
    "application/vnd.databricks.v1+cell": {
     "cellMetadata": {
      "byteLimit": 2048000,
      "rowLimit": 10000
     },
     "inputWidgets": {},
     "nuid": "b3d0d70c-2d52-4eca-9202-7c45e8ac98de",
     "showTitle": true,
     "tableResultSettingsMap": {},
     "title": "Normalizar campo yt_user -> creator"
    }
   },
   "outputs": [],
   "source": [
    "df_posts = df_posts.withColumnRenamed(\"yt_user\", \"creator\") \\\n",
    "                   .withColumn(\"creator\", F.lower(F.col(\"creator\")))\n",
    "\n",
    "df_wiki = df_wiki.select(\n",
    "    F.lower(F.col(\"wiki_page\")).alias(\"creator\")\n",
    ")"
   ]
  },
  {
   "cell_type": "markdown",
   "metadata": {
    "application/vnd.databricks.v1+cell": {
     "cellMetadata": {},
     "inputWidgets": {},
     "nuid": "730fea4f-0684-4c3f-9429-81917b059ade",
     "showTitle": false,
     "tableResultSettingsMap": {},
     "title": ""
    }
   },
   "source": [
    "## \uD83D\uDCCA Cálculo de métricas de engajamento\n",
    "Agregação de métricas por criador, como quantidade de posts e interações.\n"
   ]
  },
  {
   "cell_type": "code",
   "execution_count": 0,
   "metadata": {
    "application/vnd.databricks.v1+cell": {
     "cellMetadata": {
      "byteLimit": 2048000,
      "rowLimit": 10000
     },
     "inputWidgets": {},
     "nuid": "da83d830-0ba8-4ae8-a0cf-8386df0cdef6",
     "showTitle": false,
     "tableResultSettingsMap": {},
     "title": ""
    }
   },
   "outputs": [],
   "source": [
    "engagement = df_posts.groupBy(\"creator\").agg(\n",
    "    F.count(\"*\").alias(\"qtd_posts\"),\n",
    "    F.sum(\"likes\").alias(\"sum_likes\"),\n",
    "    F.sum(\"views\").alias(\"sum_views\"),\n",
    "    F.avg(\"likes\").alias(\"avg_likes\"),\n",
    "    F.avg(\"views\").alias(\"avg_views\"),\n",
    "    F.stddev(\"likes\").alias(\"std_likes\"),\n",
    "    F.stddev(\"views\").alias(\"std_views\")\n",
    ").withColumn(\n",
    "    \"engagement_rate\",\n",
    "    F.when(F.col(\"sum_views\") > 0, F.col(\"sum_likes\") / F.col(\"sum_views\")).otherwise(0)\n",
    ")"
   ]
  },
  {
   "cell_type": "markdown",
   "metadata": {
    "application/vnd.databricks.v1+cell": {
     "cellMetadata": {},
     "inputWidgets": {},
     "nuid": "ef7091bd-577d-4d18-ba00-30f3e8d59ecd",
     "showTitle": false,
     "tableResultSettingsMap": {},
     "title": ""
    }
   },
   "source": [
    "## \uD83D\uDD17 Junção com dados de criadores da Wikipedia\n",
    "Relaciona as métricas de engajamento com informações adicionais sobre cada criador.\n"
   ]
  },
  {
   "cell_type": "code",
   "execution_count": 0,
   "metadata": {
    "application/vnd.databricks.v1+cell": {
     "cellMetadata": {
      "byteLimit": 2048000,
      "rowLimit": 10000
     },
     "inputWidgets": {},
     "nuid": "b7ed2657-f182-455b-8e6d-a46a68a7d519",
     "showTitle": false,
     "tableResultSettingsMap": {},
     "title": ""
    }
   },
   "outputs": [],
   "source": [
    "df_features = engagement.join(df_wiki, \"creator\", \"left\")\n",
    "\n",
    "# Garantir que valores nulos sejam tratados\n",
    "df_features = df_features.fillna(0, subset=[\n",
    "    \"sum_likes\", \"sum_views\", \"avg_likes\", \"avg_views\", \n",
    "    \"std_likes\", \"std_views\", \"engagement_rate\"\n",
    "])"
   ]
  },
  {
   "cell_type": "markdown",
   "metadata": {
    "application/vnd.databricks.v1+cell": {
     "cellMetadata": {},
     "inputWidgets": {},
     "nuid": "5e933994-f19d-4e29-b515-7f166d5cc1c6",
     "showTitle": false,
     "tableResultSettingsMap": {},
     "title": ""
    }
   },
   "source": [
    "## \uD83C\uDFC6 Ranking de criadores\n",
    "Uso de janelas analíticas para ordenar os criadores por número de posts.\n"
   ]
  },
  {
   "cell_type": "code",
   "execution_count": 0,
   "metadata": {
    "application/vnd.databricks.v1+cell": {
     "cellMetadata": {
      "byteLimit": 2048000,
      "rowLimit": 10000
     },
     "inputWidgets": {},
     "nuid": "26ffdd11-da27-48da-ae3c-298ef8a5bd0a",
     "showTitle": false,
     "tableResultSettingsMap": {},
     "title": ""
    }
   },
   "outputs": [
    {
     "output_type": "stream",
     "name": "stderr",
     "output_type": "stream",
     "text": [
      "/databricks/python/lib/python3.11/site-packages/pyspark/sql/connect/expressions.py:1017: UserWarning: WARN WindowExpression: No Partition Defined for Window operation! Moving all data to a single partition, this can cause serious performance degradation.\n  warnings.warn(\n"
     ]
    }
   ],
   "source": [
    "window_posts = Window.orderBy(F.desc(\"qtd_posts\"))\n",
    "window_views = Window.orderBy(F.desc(\"avg_views\"))\n",
    "window_likes = Window.orderBy(F.desc(\"avg_likes\"))\n",
    "window_eng = Window.orderBy(F.desc(\"engagement_rate\"))\n",
    "\n",
    "df_features = df_features \\\n",
    "    .withColumn(\"rank_posts\", F.dense_rank().over(window_posts)) \\\n",
    "    .withColumn(\"rank_views\", F.dense_rank().over(window_views)) \\\n",
    "    .withColumn(\"rank_likes\", F.dense_rank().over(window_likes)) \\\n",
    "    .withColumn(\"rank_engagement\", F.dense_rank().over(window_eng))"
   ]
  },
  {
   "cell_type": "code",
   "execution_count": 0,
   "metadata": {
    "application/vnd.databricks.v1+cell": {
     "cellMetadata": {
      "byteLimit": 2048000,
      "rowLimit": 10000
     },
     "inputWidgets": {},
     "nuid": "b7e447c2-904a-4015-b985-ed018c2984a1",
     "showTitle": true,
     "tableResultSettingsMap": {},
     "title": "Escrita na camada Platinum"
    }
   },
   "outputs": [
    {
     "output_type": "stream",
     "name": "stderr",
     "output_type": "stream",
     "text": [
      "/databricks/python/lib/python3.11/site-packages/pyspark/sql/connect/expressions.py:1017: UserWarning: WARN WindowExpression: No Partition Defined for Window operation! Moving all data to a single partition, this can cause serious performance degradation.\n  warnings.warn(\n"
     ]
    }
   ],
   "source": [
    "spark.sql(\"CREATE SCHEMA IF NOT EXISTS platinum\")\n",
    "\n",
    "df_features.write.format(\"delta\").mode(\"overwrite\").saveAsTable(\"platinum.creators_features\")"
   ]
  },
  {
   "cell_type": "code",
   "execution_count": 0,
   "metadata": {
    "application/vnd.databricks.v1+cell": {
     "cellMetadata": {
      "byteLimit": 2048000,
      "rowLimit": 10000
     },
     "inputWidgets": {},
     "nuid": "16139523-8523-40c3-9e2f-29aaa97bce75",
     "showTitle": true,
     "tableResultSettingsMap": {},
     "title": "Logging"
    }
   },
   "outputs": [
    {
     "output_type": "stream",
     "name": "stderr",
     "output_type": "stream",
     "text": [
      "/databricks/python/lib/python3.11/site-packages/pyspark/sql/connect/expressions.py:1017: UserWarning: WARN WindowExpression: No Partition Defined for Window operation! Moving all data to a single partition, this can cause serious performance degradation.\n  warnings.warn(\n"
     ]
    },
    {
     "output_type": "stream",
     "name": "stdout",
     "output_type": "stream",
     "text": [
      "✅ Tabela 'platinum.creators_features' criada com sucesso \uD83D\uDE80\n\uD83D\uDCCA Processados 14 creators em 2025-08-20\n"
     ]
    }
   ],
   "source": [
    "total_creators = df_features.count()\n",
    "exec_date = spark.sql(\"SELECT current_date()\").collect()[0][0]\n",
    "\n",
    "print(\"✅ Tabela 'platinum.creators_features' criada com sucesso \uD83D\uDE80\")\n",
    "print(f\"\uD83D\uDCCA Processados {total_creators} creators em {exec_date}\")"
   ]
  },
  {
   "cell_type": "code",
   "execution_count": 0,
   "metadata": {
    "application/vnd.databricks.v1+cell": {
     "cellMetadata": {
      "byteLimit": 2048000,
      "implicitDf": true,
      "rowLimit": 10000
     },
     "inputWidgets": {},
     "nuid": "102bba48-02b8-4ec5-831b-f801ccd1bfde",
     "showTitle": false,
     "tableResultSettingsMap": {},
     "title": ""
    }
   },
   "outputs": [
    {
     "output_type": "display_data",
     "data": {
      "text/html": [
       "<style scoped>\n",
       "  .table-result-container {\n",
       "    max-height: 300px;\n",
       "    overflow: auto;\n",
       "  }\n",
       "  table, th, td {\n",
       "    border: 1px solid black;\n",
       "    border-collapse: collapse;\n",
       "  }\n",
       "  th, td {\n",
       "    padding: 5px;\n",
       "  }\n",
       "  th {\n",
       "    text-align: left;\n",
       "  }\n",
       "</style><div class='table-result-container'><table class='table-result'><thead style='background-color: white'><tr><th>creator</th><th>qtd_posts</th><th>sum_likes</th><th>sum_views</th><th>avg_likes</th><th>avg_views</th><th>std_likes</th><th>std_views</th><th>engagement_rate</th><th>rank_posts</th><th>rank_views</th><th>rank_likes</th><th>rank_engagement</th></tr></thead><tbody><tr><td>pirulla25</td><td>66</td><td>459317</td><td>4386983</td><td>6959.348484848485</td><td>66469.43939393939</td><td>6713.221353286991</td><td>74828.15751473582</td><td>0.10469997262355472</td><td>10</td><td>13</td><td>9</td><td>1</td></tr><tr><td>felipeneto</td><td>374</td><td>30842412</td><td>389793199</td><td>82466.3422459893</td><td>1042227.8048128342</td><td>47725.13375037449</td><td>763564.4644155223</td><td>0.0791250644678385</td><td>4</td><td>8</td><td>5</td><td>2</td></tr><tr><td>raywilliamjohnson</td><td>646</td><td>191717764</td><td>2641789893</td><td>296776.72445820435</td><td>4089458.0386996903</td><td>375883.8740853597</td><td>5249644.585367253</td><td>0.07257116264544661</td><td>2</td><td>4</td><td>1</td><td>3</td></tr><tr><td>pewdiepie</td><td>33</td><td>7776421</td><td>108025064</td><td>235649.12121212122</td><td>3273486.787878788</td><td>250094.94842618742</td><td>2249700.2024825965</td><td>0.07198719178726892</td><td>12</td><td>5</td><td>2</td><td>4</td></tr><tr><td>portadosfundos</td><td>312</td><td>13768422</td><td>206194181</td><td>44129.557692307695</td><td>660878.7852564103</td><td>53377.925583562894</td><td>1426437.3631013432</td><td>0.06677405702346179</td><td>7</td><td>9</td><td>7</td><td>5</td></tr><tr><td>morezoella</td><td>43</td><td>1111331</td><td>28379209</td><td>25844.906976744187</td><td>659981.6046511628</td><td>11601.153230470447</td><td>231287.3684267443</td><td>0.0391600414232828</td><td>11</td><td>10</td><td>8</td><td>6</td></tr><tr><td>canalkondzilla</td><td>334</td><td>964551</td><td>28325511</td><td>2887.877245508982</td><td>84806.91916167665</td><td>11715.525805306226</td><td>425725.1312338873</td><td>0.03405237773115549</td><td>5</td><td>12</td><td>12</td><td>7</td></tr><tr><td>luisitocomunica</td><td>127</td><td>20148369</td><td>617971894</td><td>158648.57480314962</td><td>4865920.425196851</td><td>206064.1654115394</td><td>4070503.993067633</td><td>0.0326040216320906</td><td>9</td><td>3</td><td>3</td><td>8</td></tr><tr><td>luccasneto</td><td>492</td><td>33365504</td><td>1146428009</td><td>67816.06504065041</td><td>2330138.2296747966</td><td>131174.48153622408</td><td>6174286.197369049</td><td>0.029103880695573618</td><td>3</td><td>6</td><td>6</td><td>9</td></tr><tr><td>tedtalksdirector</td><td>326</td><td>1580830</td><td>58251164</td><td>4849.171779141105</td><td>178684.55214723927</td><td>19038.225470181776</td><td>622692.7341693891</td><td>0.027138170148840287</td><td>6</td><td>11</td><td>11</td><td>10</td></tr><tr><td>tedx talks</td><td>9041</td><td>4225909</td><td>165762874</td><td>467.41610441322865</td><td>18334.572945470634</td><td>3198.0777194473603</td><td>254579.10774251138</td><td>0.02549370011526224</td><td>1</td><td>14</td><td>13</td><td>11</td></tr><tr><td>checkgate</td><td>248</td><td>30273575</td><td>3974546529</td><td>122070.86693548386</td><td>1.602639729435484E7</td><td>172418.50185887108</td><td>3.1524326394501355E7</td><td>0.007616862648131298</td><td>8</td><td>1</td><td>4</td><td>12</td></tr><tr><td>gallinapintadita</td><td>2</td><td>12036</td><td>11260141</td><td>6018.0</td><td>5630070.5</td><td>2744.9885245661776</td><td>1743081.1481283652</td><td>0.001068903133628611</td><td>13</td><td>2</td><td>10</td><td>13</td></tr><tr><td>dottiechicken</td><td>1</td><td>322</td><td>1803123</td><td>322.0</td><td>1803123.0</td><td>0.0</td><td>0.0</td><td>1.7857905422980017E-4</td><td>14</td><td>7</td><td>14</td><td>14</td></tr></tbody></table></div>"
      ]
     },
     "metadata": {
      "application/vnd.databricks.v1+output": {
       "addedWidgets": {},
       "aggData": [],
       "aggError": "",
       "aggOverflow": false,
       "aggSchema": [],
       "aggSeriesLimitReached": false,
       "aggType": "",
       "arguments": {},
       "columnCustomDisplayInfos": {},
       "data": [
        [
         "pirulla25",
         66,
         459317,
         4386983,
         6959.348484848485,
         66469.43939393939,
         6713.221353286991,
         74828.15751473582,
         0.10469997262355472,
         10,
         13,
         9,
         1
        ],
        [
         "felipeneto",
         374,
         30842412,
         389793199,
         82466.3422459893,
         1042227.8048128342,
         47725.13375037449,
         763564.4644155223,
         0.0791250644678385,
         4,
         8,
         5,
         2
        ],
        [
         "raywilliamjohnson",
         646,
         191717764,
         2641789893,
         296776.72445820435,
         4089458.0386996903,
         375883.8740853597,
         5249644.585367253,
         0.07257116264544661,
         2,
         4,
         1,
         3
        ],
        [
         "pewdiepie",
         33,
         7776421,
         108025064,
         235649.12121212122,
         3273486.787878788,
         250094.94842618742,
         2249700.2024825965,
         0.07198719178726892,
         12,
         5,
         2,
         4
        ],
        [
         "portadosfundos",
         312,
         13768422,
         206194181,
         44129.557692307695,
         660878.7852564103,
         53377.925583562894,
         1426437.3631013432,
         0.06677405702346179,
         7,
         9,
         7,
         5
        ],
        [
         "morezoella",
         43,
         1111331,
         28379209,
         25844.906976744187,
         659981.6046511628,
         11601.153230470447,
         231287.3684267443,
         0.0391600414232828,
         11,
         10,
         8,
         6
        ],
        [
         "canalkondzilla",
         334,
         964551,
         28325511,
         2887.877245508982,
         84806.91916167665,
         11715.525805306226,
         425725.1312338873,
         0.03405237773115549,
         5,
         12,
         12,
         7
        ],
        [
         "luisitocomunica",
         127,
         20148369,
         617971894,
         158648.57480314962,
         4865920.425196851,
         206064.1654115394,
         4070503.993067633,
         0.0326040216320906,
         9,
         3,
         3,
         8
        ],
        [
         "luccasneto",
         492,
         33365504,
         1146428009,
         67816.06504065041,
         2330138.2296747966,
         131174.48153622408,
         6174286.197369049,
         0.029103880695573618,
         3,
         6,
         6,
         9
        ],
        [
         "tedtalksdirector",
         326,
         1580830,
         58251164,
         4849.171779141105,
         178684.55214723927,
         19038.225470181776,
         622692.7341693891,
         0.027138170148840287,
         6,
         11,
         11,
         10
        ],
        [
         "tedx talks",
         9041,
         4225909,
         165762874,
         467.41610441322865,
         18334.572945470634,
         3198.0777194473603,
         254579.10774251138,
         0.02549370011526224,
         1,
         14,
         13,
         11
        ],
        [
         "checkgate",
         248,
         30273575,
         3974546529,
         122070.86693548386,
         1.602639729435484E7,
         172418.50185887108,
         3.1524326394501355E7,
         0.007616862648131298,
         8,
         1,
         4,
         12
        ],
        [
         "gallinapintadita",
         2,
         12036,
         11260141,
         6018.0,
         5630070.5,
         2744.9885245661776,
         1743081.1481283652,
         0.001068903133628611,
         13,
         2,
         10,
         13
        ],
        [
         "dottiechicken",
         1,
         322,
         1803123,
         322.0,
         1803123.0,
         0.0,
         0.0,
         1.7857905422980017E-4,
         14,
         7,
         14,
         14
        ]
       ],
       "datasetInfos": [
        {
         "name": "_sqldf",
         "schema": {
          "fields": [
           {
            "metadata": {},
            "name": "creator",
            "nullable": true,
            "type": "string"
           },
           {
            "metadata": {},
            "name": "qtd_posts",
            "nullable": true,
            "type": "long"
           },
           {
            "metadata": {},
            "name": "sum_likes",
            "nullable": true,
            "type": "long"
           },
           {
            "metadata": {},
            "name": "sum_views",
            "nullable": true,
            "type": "long"
           },
           {
            "metadata": {},
            "name": "avg_likes",
            "nullable": true,
            "type": "double"
           },
           {
            "metadata": {},
            "name": "avg_views",
            "nullable": true,
            "type": "double"
           },
           {
            "metadata": {},
            "name": "std_likes",
            "nullable": true,
            "type": "double"
           },
           {
            "metadata": {},
            "name": "std_views",
            "nullable": true,
            "type": "double"
           },
           {
            "metadata": {},
            "name": "engagement_rate",
            "nullable": true,
            "type": "double"
           },
           {
            "metadata": {},
            "name": "rank_posts",
            "nullable": true,
            "type": "integer"
           },
           {
            "metadata": {},
            "name": "rank_views",
            "nullable": true,
            "type": "integer"
           },
           {
            "metadata": {},
            "name": "rank_likes",
            "nullable": true,
            "type": "integer"
           },
           {
            "metadata": {},
            "name": "rank_engagement",
            "nullable": true,
            "type": "integer"
           }
          ],
          "type": "struct"
         },
         "tableIdentifier": null,
         "typeStr": "pyspark.sql.connect.dataframe.DataFrame"
        }
       ],
       "dbfsResultPath": null,
       "isJsonSchema": true,
       "metadata": {
        "createTempViewForImplicitDf": true,
        "dataframeName": "_sqldf",
        "executionCount": 49
       },
       "overflow": false,
       "plotOptions": {
        "customPlotOptions": {},
        "displayType": "table",
        "pivotAggregation": null,
        "pivotColumns": null,
        "xColumns": null,
        "yColumns": null
       },
       "removedWidgets": [],
       "schema": [
        {
         "metadata": "{}",
         "name": "creator",
         "type": "\"string\""
        },
        {
         "metadata": "{}",
         "name": "qtd_posts",
         "type": "\"long\""
        },
        {
         "metadata": "{}",
         "name": "sum_likes",
         "type": "\"long\""
        },
        {
         "metadata": "{}",
         "name": "sum_views",
         "type": "\"long\""
        },
        {
         "metadata": "{}",
         "name": "avg_likes",
         "type": "\"double\""
        },
        {
         "metadata": "{}",
         "name": "avg_views",
         "type": "\"double\""
        },
        {
         "metadata": "{}",
         "name": "std_likes",
         "type": "\"double\""
        },
        {
         "metadata": "{}",
         "name": "std_views",
         "type": "\"double\""
        },
        {
         "metadata": "{}",
         "name": "engagement_rate",
         "type": "\"double\""
        },
        {
         "metadata": "{}",
         "name": "rank_posts",
         "type": "\"integer\""
        },
        {
         "metadata": "{}",
         "name": "rank_views",
         "type": "\"integer\""
        },
        {
         "metadata": "{}",
         "name": "rank_likes",
         "type": "\"integer\""
        },
        {
         "metadata": "{}",
         "name": "rank_engagement",
         "type": "\"integer\""
        }
       ],
       "type": "table"
      }
     },
     "output_type": "display_data"
    }
   ],
   "source": [
    "%sql\n",
    "SELECT * FROM platinum.creators_features"
   ]
  }
 ],
 "metadata": {
  "application/vnd.databricks.v1+notebook": {
   "computePreferences": null,
   "dashboards": [],
   "environmentMetadata": {
    "base_environment": "",
    "environment_version": "2"
   },
   "inputWidgetPreferences": null,
   "language": "python",
   "notebookMetadata": {
    "mostRecentlyExecutedCommandWithImplicitDF": {
     "commandId": 8569227299910398,
     "dataframes": [
      "_sqldf"
     ]
    },
    "pythonIndentUnit": 4
   },
   "notebookName": "5 - platinum_features.py",
   "widgets": {}
  },
  "language_info": {
   "name": "python"
  }
 },
 "nbformat": 4,
 "nbformat_minor": 0
}