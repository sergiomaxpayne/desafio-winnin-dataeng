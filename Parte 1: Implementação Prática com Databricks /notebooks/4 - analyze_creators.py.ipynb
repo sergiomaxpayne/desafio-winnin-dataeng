{
 "cells": [
  {
   "cell_type": "markdown",
   "metadata": {
    "application/vnd.databricks.v1+cell": {
     "cellMetadata": {},
     "inputWidgets": {},
     "nuid": "8d3ba860-8ddf-4487-981f-911ea657d8e7",
     "showTitle": false,
     "tableResultSettingsMap": {},
     "title": ""
    }
   },
   "source": [
    "# \uD83D\uDCCA Notebook: Análise de Criadores\n",
    "Este notebook realiza a análise de métricas de criadores de conteúdo, unindo informações da Wikipedia, posts e usuários do YouTube.\n"
   ]
  },
  {
   "cell_type": "code",
   "execution_count": 0,
   "metadata": {
    "application/vnd.databricks.v1+cell": {
     "cellMetadata": {
      "byteLimit": 2048000,
      "rowLimit": 10000
     },
     "inputWidgets": {},
     "nuid": "8be5dcb6-dc63-4138-8a9f-009bddcb7854",
     "showTitle": false,
     "tableResultSettingsMap": {},
     "title": ""
    }
   },
   "outputs": [],
   "source": [
    "from pyspark.sql import SparkSession\n",
    "from pyspark.sql import functions as F\n",
    "from pyspark.sql.window import Window"
   ]
  },
  {
   "cell_type": "code",
   "execution_count": 0,
   "metadata": {
    "application/vnd.databricks.v1+cell": {
     "cellMetadata": {
      "byteLimit": 2048000,
      "rowLimit": 10000
     },
     "inputWidgets": {},
     "nuid": "da5ea227-55ab-4e94-bbde-f450c2ed7c29",
     "showTitle": false,
     "tableResultSettingsMap": {},
     "title": ""
    }
   },
   "outputs": [],
   "source": [
    "spark = SparkSession.builder.getOrCreate()"
   ]
  },
  {
   "cell_type": "code",
   "execution_count": 0,
   "metadata": {
    "application/vnd.databricks.v1+cell": {
     "cellMetadata": {
      "byteLimit": 2048000,
      "rowLimit": 10000
     },
     "inputWidgets": {},
     "nuid": "504a0cbb-1781-4402-92ea-057050b7c89e",
     "showTitle": false,
     "tableResultSettingsMap": {},
     "title": ""
    }
   },
   "outputs": [],
   "source": [
    "df_wiki = spark.table(\"default.creators_scrape_wiki\")\n",
    "df_posts = spark.table(\"default.posts_creator\")\n",
    "df_users = spark.table(\"default.users_yt\")"
   ]
  },
  {
   "cell_type": "code",
   "execution_count": 0,
   "metadata": {
    "application/vnd.databricks.v1+cell": {
     "cellMetadata": {
      "byteLimit": 2048000,
      "rowLimit": 10000
     },
     "inputWidgets": {},
     "nuid": "a3939699-ef61-4e6d-9f35-c904c2741464",
     "showTitle": false,
     "tableResultSettingsMap": {},
     "title": ""
    }
   },
   "outputs": [],
   "source": [
    "df_posts = df_posts.withColumn(\"published_at\", F.from_unixtime(\"published_at\").cast(\"date\"))"
   ]
  },
  {
   "cell_type": "code",
   "execution_count": 0,
   "metadata": {
    "application/vnd.databricks.v1+cell": {
     "cellMetadata": {
      "byteLimit": 2048000,
      "rowLimit": 10000
     },
     "inputWidgets": {},
     "nuid": "d56b25de-266d-4e2a-bdae-8e8e2665462c",
     "showTitle": false,
     "tableResultSettingsMap": {},
     "title": ""
    }
   },
   "outputs": [],
   "source": [
    "max_date = df_posts.select(F.max(\"published_at\")).collect()[0][0]\n",
    "cutoff_date = F.add_months(F.lit(max_date), -6)\n",
    "\n",
    "df_posts_6m = df_posts.filter(F.col(\"published_at\") >= cutoff_date)"
   ]
  },
  {
   "cell_type": "code",
   "execution_count": 0,
   "metadata": {
    "application/vnd.databricks.v1+cell": {
     "cellMetadata": {
      "byteLimit": 2048000,
      "rowLimit": 10000
     },
     "inputWidgets": {},
     "nuid": "27a1e4b4-1f35-4437-a1a7-0553612922ef",
     "showTitle": false,
     "tableResultSettingsMap": {},
     "title": ""
    }
   },
   "outputs": [],
   "source": [
    "df_join = df_posts_6m.join(df_users, df_posts_6m.yt_user == df_users.user_id, how=\"inner\")"
   ]
  },
  {
   "cell_type": "markdown",
   "metadata": {
    "application/vnd.databricks.v1+cell": {
     "cellMetadata": {},
     "inputWidgets": {},
     "nuid": "4a134543-bcfe-47e7-abdf-f82964606425",
     "showTitle": false,
     "tableResultSettingsMap": {},
     "title": ""
    }
   },
   "source": [
    "## \uD83D\uDCC8 Janelas analíticas\n",
    "Criação de janelas particionadas por `user_id` para identificar posts com mais likes e mais views.\n"
   ]
  },
  {
   "cell_type": "code",
   "execution_count": 0,
   "metadata": {
    "application/vnd.databricks.v1+cell": {
     "cellMetadata": {
      "byteLimit": 2048000,
      "rowLimit": 10000
     },
     "inputWidgets": {},
     "nuid": "5f27cd04-1d64-4164-9c49-efff1ec5c308",
     "showTitle": false,
     "tableResultSettingsMap": {},
     "title": ""
    }
   },
   "outputs": [
    {
     "output_type": "stream",
     "name": "stdout",
     "output_type": "stream",
     "text": [
      "▶️ Top 3 posts por likes (últimos 6 meses):\n+-----------------+---------------------------------------------------------------------------------+-------+----+\n|user_id          |title                                                                            |likes  |rank|\n+-----------------+---------------------------------------------------------------------------------+-------+----+\n|CanalKondZilla   |Nike 4 molas ou 12 molas? A história da Nike no Brasil                           |158253 |1   |\n|CanalKondZilla   |O de trás tá na maior brisa curtindo um pião com os cara \uD83D\uDE02\uD83D\uDC36\uD83D\uDC4B                  |93008  |2   |\n|CanalKondZilla   |Ondas do Mar - MC Kekel (KondZilla)                                              |73592  |3   |\n|MoreZoella       |Introducing Novie & Cosy Family Catch Ups                                        |43533  |1   |\n|MoreZoella       |Preparing For The New Baby & Christmas | Last Vlog of 2023                       |39965  |2   |\n|MoreZoella       |Autumn Has Arrived | Decorating The Porch, Halloween Lush Haul & Day with Mark ad|27022  |3   |\n|PewDiePie        |I Drew Every Day for 100 DAYS!                                                   |531425 |1   |\n|PewDiePie        |Teaching myself to draw for no reason                                            |354677 |2   |\n|PewDiePie        |How a Reddit Post Changed my Life                                                |233292 |3   |\n|felipeneto       |LIVE DE AMONG US - DESPEDIDA 2023                                                |167632 |1   |\n|felipeneto       |MELHORES RESPOSTAS DE PROVA NOVA EDIÇÃO                                          |154680 |2   |\n|felipeneto       |PROVANDO PIORES COMIDAS DO BRASIL PELOS GRINGOS                                  |141631 |3   |\n|luccasneto       |A PRINCESA PASSOU A NOITE NA ESCOLA!                                             |344668 |1   |\n|luccasneto       |DESAFIO DO SIM OU NÃO COM OS APRENDIZES CRIANÇAS!                                |339523 |2   |\n|luccasneto       |TENTE ACERTAR O ALVO!                                                            |323890 |3   |\n|portadosfundos   |LIBERA O PRESO, PEÇANHA! - #Shorts                                               |514783 |1   |\n|portadosfundos   |ESSE ANTIDEPRESSIVO FUNCIONA! - #Shorts                                          |240450 |2   |\n|portadosfundos   |NOVEMBRO AZUL SINCERO                                                            |210068 |3   |\n|raywilliamjohnson|She got screwed over                                                             |1675453|1   |\n|raywilliamjohnson|Then he got arrested…                                                            |1347815|2   |\n+-----------------+---------------------------------------------------------------------------------+-------+----+\nonly showing top 20 rows\n"
     ]
    }
   ],
   "source": [
    "window_likes = Window.partitionBy(\"user_id\").orderBy(F.desc(\"likes\"))\n",
    "\n",
    "df_top_likes = (\n",
    "    df_join\n",
    "    .withColumn(\"rank\", F.row_number().over(window_likes))\n",
    "    .filter(F.col(\"rank\") <= 3)\n",
    "    .select(\"user_id\", \"title\", \"likes\", \"rank\")\n",
    ")\n",
    "\n",
    "print(\"▶️ Top 3 posts por likes (últimos 6 meses):\")\n",
    "df_top_likes.show(truncate=False)"
   ]
  },
  {
   "cell_type": "code",
   "execution_count": 0,
   "metadata": {
    "application/vnd.databricks.v1+cell": {
     "cellMetadata": {
      "byteLimit": 2048000,
      "rowLimit": 10000
     },
     "inputWidgets": {},
     "nuid": "0e6528a5-ddf5-4adf-847d-9a7c8f43bab1",
     "showTitle": false,
     "tableResultSettingsMap": {},
     "title": ""
    }
   },
   "outputs": [
    {
     "output_type": "stream",
     "name": "stdout",
     "output_type": "stream",
     "text": [
      "▶️ Top 3 posts por views (últimos 6 meses):\n+-----------------+---------------------------------------------------------------------------------+--------+----+\n|user_id          |title                                                                            |views   |rank|\n+-----------------+---------------------------------------------------------------------------------+--------+----+\n|CanalKondZilla   |Ondas do Mar - MC Kekel (KondZilla)                                              |7021014 |1   |\n|CanalKondZilla   |Nike 4 molas ou 12 molas? A história da Nike no Brasil                           |2089656 |2   |\n|CanalKondZilla   |O de trás tá na maior brisa curtindo um pião com os cara \uD83D\uDE02\uD83D\uDC36\uD83D\uDC4B                  |1959321 |3   |\n|MoreZoella       |Preparing For The New Baby & Christmas | Last Vlog of 2023                       |1333391 |1   |\n|MoreZoella       |Baking with Ottie, Halloween And House Prep | ad                                 |923701  |2   |\n|MoreZoella       |Autumn Has Arrived | Decorating The Porch, Halloween Lush Haul & Day with Mark ad|892741  |3   |\n|PewDiePie        |I Drew Every Day for 100 DAYS!                                                   |5470620 |1   |\n|PewDiePie        |The real reason I left Sweden.                                                   |4765068 |2   |\n|PewDiePie        |How a Reddit Post Changed my Life                                                |3791335 |3   |\n|felipeneto       |MELHORES RESPOSTAS DE PROVA NOVA EDIÇÃO                                          |3213159 |1   |\n|felipeneto       |LIVE DE AMONG US - DESPEDIDA 2023                                                |2958450 |2   |\n|felipeneto       |OVOS DE PÁSCOA - FINI, KINDER OVO E SURPRESA!                                    |2004566 |3   |\n|luccasneto       |DESAFIO DO SIM OU NÃO COM OS APRENDIZES CRIANÇAS!                                |12512175|1   |\n|luccasneto       |7 ANOS DE AZAR!!!                                                                |6224116 |2   |\n|luccasneto       |A PRINCESA PASSOU A NOITE NA ESCOLA!                                             |5859840 |3   |\n|portadosfundos   |ALERTA GATILHO                                                                   |21920896|1   |\n|portadosfundos   |LIBERA O PRESO, PEÇANHA! - #Shorts                                               |5639457 |2   |\n|portadosfundos   |ESSE ANTIDEPRESSIVO FUNCIONA! - #Shorts                                          |2712092 |3   |\n|raywilliamjohnson|She got screwed over                                                             |31836471|1   |\n|raywilliamjohnson|The story of The Narco Queen                                                     |21753106|2   |\n+-----------------+---------------------------------------------------------------------------------+--------+----+\nonly showing top 20 rows\n"
     ]
    }
   ],
   "source": [
    "window_views = Window.partitionBy(\"user_id\").orderBy(F.desc(\"views\"))\n",
    "\n",
    "df_top_views = (\n",
    "    df_join\n",
    "    .withColumn(\"rank\", F.row_number().over(window_views))\n",
    "    .filter(F.col(\"rank\") <= 3)\n",
    "    .select(\"user_id\", \"title\", \"views\", \"rank\")\n",
    ")\n",
    "\n",
    "print(\"▶️ Top 3 posts por views (últimos 6 meses):\")\n",
    "df_top_views.show(truncate=False)"
   ]
  },
  {
   "cell_type": "markdown",
   "metadata": {
    "application/vnd.databricks.v1+cell": {
     "cellMetadata": {},
     "inputWidgets": {},
     "nuid": "9b63fc74-5734-4380-ab2e-c96c15c4fcc4",
     "showTitle": false,
     "tableResultSettingsMap": {},
     "title": ""
    }
   },
   "source": [
    "## ⚠️ Usuários ausentes\n",
    "Identificação de usuários que aparecem em posts, mas não estão na base de `users_yt`.\n"
   ]
  },
  {
   "cell_type": "code",
   "execution_count": 0,
   "metadata": {
    "application/vnd.databricks.v1+cell": {
     "cellMetadata": {
      "byteLimit": 2048000,
      "rowLimit": 10000
     },
     "inputWidgets": {},
     "nuid": "360cbc59-8cce-4140-bebb-fd3144b63f7b",
     "showTitle": false,
     "tableResultSettingsMap": {},
     "title": ""
    }
   },
   "outputs": [
    {
     "output_type": "stream",
     "name": "stdout",
     "output_type": "stream",
     "text": [
      "▶️ yt_users presentes em posts_creator mas ausentes em users_yt:\n+----------------+\n|yt_user         |\n+----------------+\n|tedx Talks      |\n|LuisitoComunica |\n|checkgate       |\n|DottieChicken   |\n|tedtalksdirector|\n|GallinaPintadita|\n|Pirulla25       |\n+----------------+\n\n"
     ]
    }
   ],
   "source": [
    "df_missing_users = df_posts.select(\"yt_user\").distinct() \\\n",
    "    .join(df_users.select(\"user_id\").distinct(), df_posts.yt_user == df_users.user_id, how=\"left_anti\")\n",
    "\n",
    "print(\"▶️ yt_users presentes em posts_creator mas ausentes em users_yt:\")\n",
    "df_missing_users.show(truncate=False)"
   ]
  },
  {
   "cell_type": "markdown",
   "metadata": {
    "application/vnd.databricks.v1+cell": {
     "cellMetadata": {},
     "inputWidgets": {},
     "nuid": "ab90db9b-d9b6-4284-ad7b-50020c26abf1",
     "showTitle": false,
     "tableResultSettingsMap": {},
     "title": ""
    }
   },
   "source": [
    "## \uD83D\uDCC8 Janelas analíticas\n",
    "Criação de janelas particionadas por `user_id` para identificar posts com mais likes e mais views.\n"
   ]
  },
  {
   "cell_type": "code",
   "execution_count": 0,
   "metadata": {
    "application/vnd.databricks.v1+cell": {
     "cellMetadata": {
      "byteLimit": 2048000,
      "rowLimit": 10000
     },
     "inputWidgets": {},
     "nuid": "22cfda41-ccf5-4950-91d6-d7534d8a18bd",
     "showTitle": false,
     "tableResultSettingsMap": {},
     "title": ""
    }
   },
   "outputs": [
    {
     "output_type": "stream",
     "name": "stdout",
     "output_type": "stream",
     "text": [
      "▶️ Total de posts por mês por creator:\n+----------------+----------+-----------+\n|yt_user         |year_month|total_posts|\n+----------------+----------+-----------+\n|CanalKondZilla  |2023-04   |26         |\n|CanalKondZilla  |2023-05   |64         |\n|CanalKondZilla  |2023-06   |27         |\n|CanalKondZilla  |2023-07   |26         |\n|CanalKondZilla  |2023-08   |21         |\n|CanalKondZilla  |2023-09   |20         |\n|CanalKondZilla  |2023-10   |23         |\n|CanalKondZilla  |2023-11   |22         |\n|CanalKondZilla  |2023-12   |21         |\n|CanalKondZilla  |2024-01   |17         |\n|CanalKondZilla  |2024-02   |25         |\n|CanalKondZilla  |2024-03   |37         |\n|CanalKondZilla  |2024-04   |5          |\n|DottieChicken   |2023-10   |1          |\n|GallinaPintadita|2023-05   |1          |\n|GallinaPintadita|2023-10   |1          |\n|LuisitoComunica |2023-04   |5          |\n|LuisitoComunica |2023-05   |12         |\n|LuisitoComunica |2023-06   |11         |\n|LuisitoComunica |2023-07   |9          |\n+----------------+----------+-----------+\nonly showing top 20 rows\n"
     ]
    }
   ],
   "source": [
    "df_posts = df_posts.withColumn(\"year_month\", F.date_format(\"published_at\", \"yyyy-MM\"))\n",
    "\n",
    "df_posts_monthly = df_posts.groupBy(\"yt_user\", \"year_month\") \\\n",
    "    .agg(F.count(\"*\").alias(\"total_posts\")) \\\n",
    "    .orderBy(\"yt_user\", \"year_month\")\n",
    "\n",
    "print(\"▶️ Total de posts por mês por creator:\")\n",
    "df_posts_monthly.show(truncate=False)"
   ]
  },
  {
   "cell_type": "markdown",
   "metadata": {
    "application/vnd.databricks.v1+cell": {
     "cellMetadata": {},
     "inputWidgets": {},
     "nuid": "ae159a42-d0bc-44f6-8ab6-376a3ebe9b92",
     "showTitle": false,
     "tableResultSettingsMap": {},
     "title": ""
    }
   },
   "source": [
    "## ⚠️ Usuários ausentes\n",
    "Identificação de usuários que aparecem em posts, mas não estão na base de `users_yt`.\n"
   ]
  },
  {
   "cell_type": "code",
   "execution_count": 0,
   "metadata": {
    "application/vnd.databricks.v1+cell": {
     "cellMetadata": {
      "byteLimit": 2048000,
      "rowLimit": 10000
     },
     "inputWidgets": {},
     "nuid": "e6524641-1f03-4847-9be6-9171033723f1",
     "showTitle": false,
     "tableResultSettingsMap": {},
     "title": ""
    }
   },
   "outputs": [
    {
     "output_type": "stream",
     "name": "stdout",
     "output_type": "stream",
     "text": [
      "▶️ Total de posts por mês por creator (com 0 onde não tem post):\n"
     ]
    },
    {
     "output_type": "display_data",
     "data": {
      "text/html": [
       "<style scoped>\n",
       "  .table-result-container {\n",
       "    max-height: 300px;\n",
       "    overflow: auto;\n",
       "  }\n",
       "  table, th, td {\n",
       "    border: 1px solid black;\n",
       "    border-collapse: collapse;\n",
       "  }\n",
       "  th, td {\n",
       "    padding: 5px;\n",
       "  }\n",
       "  th {\n",
       "    text-align: left;\n",
       "  }\n",
       "</style><div class='table-result-container'><table class='table-result'><thead style='background-color: white'><tr><th>yt_user</th><th>year_month</th><th>total_posts</th></tr></thead><tbody><tr><td>CanalKondZilla</td><td>2023-04</td><td>26</td></tr><tr><td>CanalKondZilla</td><td>2023-05</td><td>64</td></tr><tr><td>CanalKondZilla</td><td>2023-06</td><td>27</td></tr><tr><td>CanalKondZilla</td><td>2023-07</td><td>26</td></tr><tr><td>CanalKondZilla</td><td>2023-08</td><td>21</td></tr><tr><td>CanalKondZilla</td><td>2023-09</td><td>20</td></tr><tr><td>CanalKondZilla</td><td>2023-10</td><td>23</td></tr><tr><td>CanalKondZilla</td><td>2023-11</td><td>22</td></tr><tr><td>CanalKondZilla</td><td>2023-12</td><td>21</td></tr><tr><td>CanalKondZilla</td><td>2024-01</td><td>17</td></tr><tr><td>CanalKondZilla</td><td>2024-02</td><td>25</td></tr><tr><td>CanalKondZilla</td><td>2024-03</td><td>37</td></tr><tr><td>DottieChicken</td><td>2023-04</td><td>0</td></tr><tr><td>DottieChicken</td><td>2023-05</td><td>0</td></tr><tr><td>DottieChicken</td><td>2023-06</td><td>0</td></tr><tr><td>DottieChicken</td><td>2023-07</td><td>0</td></tr><tr><td>DottieChicken</td><td>2023-08</td><td>0</td></tr><tr><td>DottieChicken</td><td>2023-09</td><td>0</td></tr><tr><td>DottieChicken</td><td>2023-10</td><td>1</td></tr><tr><td>DottieChicken</td><td>2023-11</td><td>0</td></tr><tr><td>DottieChicken</td><td>2023-12</td><td>0</td></tr><tr><td>DottieChicken</td><td>2024-01</td><td>0</td></tr><tr><td>DottieChicken</td><td>2024-02</td><td>0</td></tr><tr><td>DottieChicken</td><td>2024-03</td><td>0</td></tr><tr><td>GallinaPintadita</td><td>2023-04</td><td>0</td></tr><tr><td>GallinaPintadita</td><td>2023-05</td><td>1</td></tr><tr><td>GallinaPintadita</td><td>2023-06</td><td>0</td></tr><tr><td>GallinaPintadita</td><td>2023-07</td><td>0</td></tr><tr><td>GallinaPintadita</td><td>2023-08</td><td>0</td></tr><tr><td>GallinaPintadita</td><td>2023-09</td><td>0</td></tr><tr><td>GallinaPintadita</td><td>2023-10</td><td>1</td></tr><tr><td>GallinaPintadita</td><td>2023-11</td><td>0</td></tr><tr><td>GallinaPintadita</td><td>2023-12</td><td>0</td></tr><tr><td>GallinaPintadita</td><td>2024-01</td><td>0</td></tr><tr><td>GallinaPintadita</td><td>2024-02</td><td>0</td></tr><tr><td>GallinaPintadita</td><td>2024-03</td><td>0</td></tr><tr><td>LuisitoComunica</td><td>2023-04</td><td>5</td></tr><tr><td>LuisitoComunica</td><td>2023-05</td><td>12</td></tr><tr><td>LuisitoComunica</td><td>2023-06</td><td>11</td></tr><tr><td>LuisitoComunica</td><td>2023-07</td><td>9</td></tr><tr><td>LuisitoComunica</td><td>2023-08</td><td>9</td></tr><tr><td>LuisitoComunica</td><td>2023-09</td><td>18</td></tr><tr><td>LuisitoComunica</td><td>2023-10</td><td>12</td></tr><tr><td>LuisitoComunica</td><td>2023-11</td><td>8</td></tr><tr><td>LuisitoComunica</td><td>2023-12</td><td>9</td></tr><tr><td>LuisitoComunica</td><td>2024-01</td><td>6</td></tr><tr><td>LuisitoComunica</td><td>2024-02</td><td>15</td></tr><tr><td>LuisitoComunica</td><td>2024-03</td><td>10</td></tr><tr><td>MoreZoella</td><td>2023-04</td><td>1</td></tr><tr><td>MoreZoella</td><td>2023-05</td><td>0</td></tr><tr><td>MoreZoella</td><td>2023-06</td><td>0</td></tr><tr><td>MoreZoella</td><td>2023-07</td><td>5</td></tr><tr><td>MoreZoella</td><td>2023-08</td><td>30</td></tr><tr><td>MoreZoella</td><td>2023-09</td><td>2</td></tr><tr><td>MoreZoella</td><td>2023-10</td><td>3</td></tr><tr><td>MoreZoella</td><td>2023-11</td><td>0</td></tr><tr><td>MoreZoella</td><td>2023-12</td><td>1</td></tr><tr><td>MoreZoella</td><td>2024-01</td><td>0</td></tr><tr><td>MoreZoella</td><td>2024-02</td><td>0</td></tr><tr><td>MoreZoella</td><td>2024-03</td><td>0</td></tr><tr><td>PewDiePie</td><td>2023-04</td><td>1</td></tr><tr><td>PewDiePie</td><td>2023-05</td><td>3</td></tr><tr><td>PewDiePie</td><td>2023-06</td><td>3</td></tr><tr><td>PewDiePie</td><td>2023-07</td><td>0</td></tr><tr><td>PewDiePie</td><td>2023-08</td><td>2</td></tr><tr><td>PewDiePie</td><td>2023-09</td><td>4</td></tr><tr><td>PewDiePie</td><td>2023-10</td><td>3</td></tr><tr><td>PewDiePie</td><td>2023-11</td><td>4</td></tr><tr><td>PewDiePie</td><td>2023-12</td><td>3</td></tr><tr><td>PewDiePie</td><td>2024-01</td><td>2</td></tr><tr><td>PewDiePie</td><td>2024-02</td><td>3</td></tr><tr><td>PewDiePie</td><td>2024-03</td><td>4</td></tr><tr><td>Pirulla25</td><td>2023-04</td><td>5</td></tr><tr><td>Pirulla25</td><td>2023-05</td><td>3</td></tr><tr><td>Pirulla25</td><td>2023-06</td><td>5</td></tr><tr><td>Pirulla25</td><td>2023-07</td><td>7</td></tr><tr><td>Pirulla25</td><td>2023-08</td><td>5</td></tr><tr><td>Pirulla25</td><td>2023-09</td><td>7</td></tr><tr><td>Pirulla25</td><td>2023-10</td><td>4</td></tr><tr><td>Pirulla25</td><td>2023-11</td><td>5</td></tr><tr><td>Pirulla25</td><td>2023-12</td><td>8</td></tr><tr><td>Pirulla25</td><td>2024-01</td><td>6</td></tr><tr><td>Pirulla25</td><td>2024-02</td><td>3</td></tr><tr><td>Pirulla25</td><td>2024-03</td><td>6</td></tr><tr><td>checkgate</td><td>2023-04</td><td>8</td></tr><tr><td>checkgate</td><td>2023-05</td><td>22</td></tr><tr><td>checkgate</td><td>2023-06</td><td>26</td></tr><tr><td>checkgate</td><td>2023-07</td><td>28</td></tr><tr><td>checkgate</td><td>2023-08</td><td>23</td></tr><tr><td>checkgate</td><td>2023-09</td><td>14</td></tr><tr><td>checkgate</td><td>2023-10</td><td>13</td></tr><tr><td>checkgate</td><td>2023-11</td><td>17</td></tr><tr><td>checkgate</td><td>2023-12</td><td>14</td></tr><tr><td>checkgate</td><td>2024-01</td><td>17</td></tr><tr><td>checkgate</td><td>2024-02</td><td>22</td></tr><tr><td>checkgate</td><td>2024-03</td><td>29</td></tr><tr><td>felipeneto</td><td>2023-04</td><td>18</td></tr><tr><td>felipeneto</td><td>2023-05</td><td>39</td></tr><tr><td>felipeneto</td><td>2023-06</td><td>30</td></tr><tr><td>felipeneto</td><td>2023-07</td><td>35</td></tr><tr><td>felipeneto</td><td>2023-08</td><td>39</td></tr><tr><td>felipeneto</td><td>2023-09</td><td>28</td></tr><tr><td>felipeneto</td><td>2023-10</td><td>22</td></tr><tr><td>felipeneto</td><td>2023-11</td><td>25</td></tr><tr><td>felipeneto</td><td>2023-12</td><td>21</td></tr><tr><td>felipeneto</td><td>2024-01</td><td>0</td></tr><tr><td>felipeneto</td><td>2024-02</td><td>71</td></tr><tr><td>felipeneto</td><td>2024-03</td><td>36</td></tr><tr><td>luccasneto</td><td>2023-04</td><td>27</td></tr><tr><td>luccasneto</td><td>2023-05</td><td>56</td></tr><tr><td>luccasneto</td><td>2023-06</td><td>44</td></tr><tr><td>luccasneto</td><td>2023-07</td><td>48</td></tr><tr><td>luccasneto</td><td>2023-08</td><td>28</td></tr><tr><td>luccasneto</td><td>2023-09</td><td>32</td></tr><tr><td>luccasneto</td><td>2023-10</td><td>18</td></tr><tr><td>luccasneto</td><td>2023-11</td><td>45</td></tr><tr><td>luccasneto</td><td>2023-12</td><td>46</td></tr><tr><td>luccasneto</td><td>2024-01</td><td>45</td></tr><tr><td>luccasneto</td><td>2024-02</td><td>37</td></tr><tr><td>luccasneto</td><td>2024-03</td><td>43</td></tr><tr><td>portadosfundos</td><td>2023-04</td><td>12</td></tr><tr><td>portadosfundos</td><td>2023-05</td><td>28</td></tr><tr><td>portadosfundos</td><td>2023-06</td><td>27</td></tr><tr><td>portadosfundos</td><td>2023-07</td><td>27</td></tr><tr><td>portadosfundos</td><td>2023-08</td><td>27</td></tr><tr><td>portadosfundos</td><td>2023-09</td><td>26</td></tr><tr><td>portadosfundos</td><td>2023-10</td><td>28</td></tr><tr><td>portadosfundos</td><td>2023-11</td><td>25</td></tr><tr><td>portadosfundos</td><td>2023-12</td><td>27</td></tr><tr><td>portadosfundos</td><td>2024-01</td><td>26</td></tr><tr><td>portadosfundos</td><td>2024-02</td><td>23</td></tr><tr><td>portadosfundos</td><td>2024-03</td><td>25</td></tr><tr><td>raywilliamjohnson</td><td>2023-04</td><td>22</td></tr><tr><td>raywilliamjohnson</td><td>2023-05</td><td>49</td></tr><tr><td>raywilliamjohnson</td><td>2023-06</td><td>53</td></tr><tr><td>raywilliamjohnson</td><td>2023-07</td><td>51</td></tr><tr><td>raywilliamjohnson</td><td>2023-08</td><td>47</td></tr><tr><td>raywilliamjohnson</td><td>2023-09</td><td>62</td></tr><tr><td>raywilliamjohnson</td><td>2023-10</td><td>62</td></tr><tr><td>raywilliamjohnson</td><td>2023-11</td><td>60</td></tr><tr><td>raywilliamjohnson</td><td>2023-12</td><td>61</td></tr><tr><td>raywilliamjohnson</td><td>2024-01</td><td>46</td></tr><tr><td>raywilliamjohnson</td><td>2024-02</td><td>57</td></tr><tr><td>raywilliamjohnson</td><td>2024-03</td><td>55</td></tr><tr><td>tedtalksdirector</td><td>2023-04</td><td>18</td></tr><tr><td>tedtalksdirector</td><td>2023-05</td><td>33</td></tr><tr><td>tedtalksdirector</td><td>2023-06</td><td>27</td></tr><tr><td>tedtalksdirector</td><td>2023-07</td><td>21</td></tr><tr><td>tedtalksdirector</td><td>2023-08</td><td>24</td></tr><tr><td>tedtalksdirector</td><td>2023-09</td><td>28</td></tr><tr><td>tedtalksdirector</td><td>2023-10</td><td>29</td></tr><tr><td>tedtalksdirector</td><td>2023-11</td><td>24</td></tr><tr><td>tedtalksdirector</td><td>2023-12</td><td>22</td></tr><tr><td>tedtalksdirector</td><td>2024-01</td><td>25</td></tr><tr><td>tedtalksdirector</td><td>2024-02</td><td>25</td></tr><tr><td>tedtalksdirector</td><td>2024-03</td><td>36</td></tr><tr><td>tedx Talks</td><td>2023-04</td><td>401</td></tr><tr><td>tedx Talks</td><td>2023-05</td><td>1028</td></tr><tr><td>tedx Talks</td><td>2023-06</td><td>1136</td></tr><tr><td>tedx Talks</td><td>2023-07</td><td>840</td></tr><tr><td>tedx Talks</td><td>2023-08</td><td>767</td></tr><tr><td>tedx Talks</td><td>2023-09</td><td>680</td></tr><tr><td>tedx Talks</td><td>2023-10</td><td>702</td></tr><tr><td>tedx Talks</td><td>2023-11</td><td>846</td></tr><tr><td>tedx Talks</td><td>2023-12</td><td>673</td></tr><tr><td>tedx Talks</td><td>2024-01</td><td>683</td></tr><tr><td>tedx Talks</td><td>2024-02</td><td>585</td></tr><tr><td>tedx Talks</td><td>2024-03</td><td>522</td></tr></tbody></table></div>"
      ]
     },
     "metadata": {
      "application/vnd.databricks.v1+output": {
       "addedWidgets": {},
       "aggData": [],
       "aggError": "",
       "aggOverflow": false,
       "aggSchema": [],
       "aggSeriesLimitReached": false,
       "aggType": "",
       "arguments": {},
       "columnCustomDisplayInfos": {},
       "data": [
        [
         "CanalKondZilla",
         "2023-04",
         26
        ],
        [
         "CanalKondZilla",
         "2023-05",
         64
        ],
        [
         "CanalKondZilla",
         "2023-06",
         27
        ],
        [
         "CanalKondZilla",
         "2023-07",
         26
        ],
        [
         "CanalKondZilla",
         "2023-08",
         21
        ],
        [
         "CanalKondZilla",
         "2023-09",
         20
        ],
        [
         "CanalKondZilla",
         "2023-10",
         23
        ],
        [
         "CanalKondZilla",
         "2023-11",
         22
        ],
        [
         "CanalKondZilla",
         "2023-12",
         21
        ],
        [
         "CanalKondZilla",
         "2024-01",
         17
        ],
        [
         "CanalKondZilla",
         "2024-02",
         25
        ],
        [
         "CanalKondZilla",
         "2024-03",
         37
        ],
        [
         "DottieChicken",
         "2023-04",
         0
        ],
        [
         "DottieChicken",
         "2023-05",
         0
        ],
        [
         "DottieChicken",
         "2023-06",
         0
        ],
        [
         "DottieChicken",
         "2023-07",
         0
        ],
        [
         "DottieChicken",
         "2023-08",
         0
        ],
        [
         "DottieChicken",
         "2023-09",
         0
        ],
        [
         "DottieChicken",
         "2023-10",
         1
        ],
        [
         "DottieChicken",
         "2023-11",
         0
        ],
        [
         "DottieChicken",
         "2023-12",
         0
        ],
        [
         "DottieChicken",
         "2024-01",
         0
        ],
        [
         "DottieChicken",
         "2024-02",
         0
        ],
        [
         "DottieChicken",
         "2024-03",
         0
        ],
        [
         "GallinaPintadita",
         "2023-04",
         0
        ],
        [
         "GallinaPintadita",
         "2023-05",
         1
        ],
        [
         "GallinaPintadita",
         "2023-06",
         0
        ],
        [
         "GallinaPintadita",
         "2023-07",
         0
        ],
        [
         "GallinaPintadita",
         "2023-08",
         0
        ],
        [
         "GallinaPintadita",
         "2023-09",
         0
        ],
        [
         "GallinaPintadita",
         "2023-10",
         1
        ],
        [
         "GallinaPintadita",
         "2023-11",
         0
        ],
        [
         "GallinaPintadita",
         "2023-12",
         0
        ],
        [
         "GallinaPintadita",
         "2024-01",
         0
        ],
        [
         "GallinaPintadita",
         "2024-02",
         0
        ],
        [
         "GallinaPintadita",
         "2024-03",
         0
        ],
        [
         "LuisitoComunica",
         "2023-04",
         5
        ],
        [
         "LuisitoComunica",
         "2023-05",
         12
        ],
        [
         "LuisitoComunica",
         "2023-06",
         11
        ],
        [
         "LuisitoComunica",
         "2023-07",
         9
        ],
        [
         "LuisitoComunica",
         "2023-08",
         9
        ],
        [
         "LuisitoComunica",
         "2023-09",
         18
        ],
        [
         "LuisitoComunica",
         "2023-10",
         12
        ],
        [
         "LuisitoComunica",
         "2023-11",
         8
        ],
        [
         "LuisitoComunica",
         "2023-12",
         9
        ],
        [
         "LuisitoComunica",
         "2024-01",
         6
        ],
        [
         "LuisitoComunica",
         "2024-02",
         15
        ],
        [
         "LuisitoComunica",
         "2024-03",
         10
        ],
        [
         "MoreZoella",
         "2023-04",
         1
        ],
        [
         "MoreZoella",
         "2023-05",
         0
        ],
        [
         "MoreZoella",
         "2023-06",
         0
        ],
        [
         "MoreZoella",
         "2023-07",
         5
        ],
        [
         "MoreZoella",
         "2023-08",
         30
        ],
        [
         "MoreZoella",
         "2023-09",
         2
        ],
        [
         "MoreZoella",
         "2023-10",
         3
        ],
        [
         "MoreZoella",
         "2023-11",
         0
        ],
        [
         "MoreZoella",
         "2023-12",
         1
        ],
        [
         "MoreZoella",
         "2024-01",
         0
        ],
        [
         "MoreZoella",
         "2024-02",
         0
        ],
        [
         "MoreZoella",
         "2024-03",
         0
        ],
        [
         "PewDiePie",
         "2023-04",
         1
        ],
        [
         "PewDiePie",
         "2023-05",
         3
        ],
        [
         "PewDiePie",
         "2023-06",
         3
        ],
        [
         "PewDiePie",
         "2023-07",
         0
        ],
        [
         "PewDiePie",
         "2023-08",
         2
        ],
        [
         "PewDiePie",
         "2023-09",
         4
        ],
        [
         "PewDiePie",
         "2023-10",
         3
        ],
        [
         "PewDiePie",
         "2023-11",
         4
        ],
        [
         "PewDiePie",
         "2023-12",
         3
        ],
        [
         "PewDiePie",
         "2024-01",
         2
        ],
        [
         "PewDiePie",
         "2024-02",
         3
        ],
        [
         "PewDiePie",
         "2024-03",
         4
        ],
        [
         "Pirulla25",
         "2023-04",
         5
        ],
        [
         "Pirulla25",
         "2023-05",
         3
        ],
        [
         "Pirulla25",
         "2023-06",
         5
        ],
        [
         "Pirulla25",
         "2023-07",
         7
        ],
        [
         "Pirulla25",
         "2023-08",
         5
        ],
        [
         "Pirulla25",
         "2023-09",
         7
        ],
        [
         "Pirulla25",
         "2023-10",
         4
        ],
        [
         "Pirulla25",
         "2023-11",
         5
        ],
        [
         "Pirulla25",
         "2023-12",
         8
        ],
        [
         "Pirulla25",
         "2024-01",
         6
        ],
        [
         "Pirulla25",
         "2024-02",
         3
        ],
        [
         "Pirulla25",
         "2024-03",
         6
        ],
        [
         "checkgate",
         "2023-04",
         8
        ],
        [
         "checkgate",
         "2023-05",
         22
        ],
        [
         "checkgate",
         "2023-06",
         26
        ],
        [
         "checkgate",
         "2023-07",
         28
        ],
        [
         "checkgate",
         "2023-08",
         23
        ],
        [
         "checkgate",
         "2023-09",
         14
        ],
        [
         "checkgate",
         "2023-10",
         13
        ],
        [
         "checkgate",
         "2023-11",
         17
        ],
        [
         "checkgate",
         "2023-12",
         14
        ],
        [
         "checkgate",
         "2024-01",
         17
        ],
        [
         "checkgate",
         "2024-02",
         22
        ],
        [
         "checkgate",
         "2024-03",
         29
        ],
        [
         "felipeneto",
         "2023-04",
         18
        ],
        [
         "felipeneto",
         "2023-05",
         39
        ],
        [
         "felipeneto",
         "2023-06",
         30
        ],
        [
         "felipeneto",
         "2023-07",
         35
        ],
        [
         "felipeneto",
         "2023-08",
         39
        ],
        [
         "felipeneto",
         "2023-09",
         28
        ],
        [
         "felipeneto",
         "2023-10",
         22
        ],
        [
         "felipeneto",
         "2023-11",
         25
        ],
        [
         "felipeneto",
         "2023-12",
         21
        ],
        [
         "felipeneto",
         "2024-01",
         0
        ],
        [
         "felipeneto",
         "2024-02",
         71
        ],
        [
         "felipeneto",
         "2024-03",
         36
        ],
        [
         "luccasneto",
         "2023-04",
         27
        ],
        [
         "luccasneto",
         "2023-05",
         56
        ],
        [
         "luccasneto",
         "2023-06",
         44
        ],
        [
         "luccasneto",
         "2023-07",
         48
        ],
        [
         "luccasneto",
         "2023-08",
         28
        ],
        [
         "luccasneto",
         "2023-09",
         32
        ],
        [
         "luccasneto",
         "2023-10",
         18
        ],
        [
         "luccasneto",
         "2023-11",
         45
        ],
        [
         "luccasneto",
         "2023-12",
         46
        ],
        [
         "luccasneto",
         "2024-01",
         45
        ],
        [
         "luccasneto",
         "2024-02",
         37
        ],
        [
         "luccasneto",
         "2024-03",
         43
        ],
        [
         "portadosfundos",
         "2023-04",
         12
        ],
        [
         "portadosfundos",
         "2023-05",
         28
        ],
        [
         "portadosfundos",
         "2023-06",
         27
        ],
        [
         "portadosfundos",
         "2023-07",
         27
        ],
        [
         "portadosfundos",
         "2023-08",
         27
        ],
        [
         "portadosfundos",
         "2023-09",
         26
        ],
        [
         "portadosfundos",
         "2023-10",
         28
        ],
        [
         "portadosfundos",
         "2023-11",
         25
        ],
        [
         "portadosfundos",
         "2023-12",
         27
        ],
        [
         "portadosfundos",
         "2024-01",
         26
        ],
        [
         "portadosfundos",
         "2024-02",
         23
        ],
        [
         "portadosfundos",
         "2024-03",
         25
        ],
        [
         "raywilliamjohnson",
         "2023-04",
         22
        ],
        [
         "raywilliamjohnson",
         "2023-05",
         49
        ],
        [
         "raywilliamjohnson",
         "2023-06",
         53
        ],
        [
         "raywilliamjohnson",
         "2023-07",
         51
        ],
        [
         "raywilliamjohnson",
         "2023-08",
         47
        ],
        [
         "raywilliamjohnson",
         "2023-09",
         62
        ],
        [
         "raywilliamjohnson",
         "2023-10",
         62
        ],
        [
         "raywilliamjohnson",
         "2023-11",
         60
        ],
        [
         "raywilliamjohnson",
         "2023-12",
         61
        ],
        [
         "raywilliamjohnson",
         "2024-01",
         46
        ],
        [
         "raywilliamjohnson",
         "2024-02",
         57
        ],
        [
         "raywilliamjohnson",
         "2024-03",
         55
        ],
        [
         "tedtalksdirector",
         "2023-04",
         18
        ],
        [
         "tedtalksdirector",
         "2023-05",
         33
        ],
        [
         "tedtalksdirector",
         "2023-06",
         27
        ],
        [
         "tedtalksdirector",
         "2023-07",
         21
        ],
        [
         "tedtalksdirector",
         "2023-08",
         24
        ],
        [
         "tedtalksdirector",
         "2023-09",
         28
        ],
        [
         "tedtalksdirector",
         "2023-10",
         29
        ],
        [
         "tedtalksdirector",
         "2023-11",
         24
        ],
        [
         "tedtalksdirector",
         "2023-12",
         22
        ],
        [
         "tedtalksdirector",
         "2024-01",
         25
        ],
        [
         "tedtalksdirector",
         "2024-02",
         25
        ],
        [
         "tedtalksdirector",
         "2024-03",
         36
        ],
        [
         "tedx Talks",
         "2023-04",
         401
        ],
        [
         "tedx Talks",
         "2023-05",
         1028
        ],
        [
         "tedx Talks",
         "2023-06",
         1136
        ],
        [
         "tedx Talks",
         "2023-07",
         840
        ],
        [
         "tedx Talks",
         "2023-08",
         767
        ],
        [
         "tedx Talks",
         "2023-09",
         680
        ],
        [
         "tedx Talks",
         "2023-10",
         702
        ],
        [
         "tedx Talks",
         "2023-11",
         846
        ],
        [
         "tedx Talks",
         "2023-12",
         673
        ],
        [
         "tedx Talks",
         "2024-01",
         683
        ],
        [
         "tedx Talks",
         "2024-02",
         585
        ],
        [
         "tedx Talks",
         "2024-03",
         522
        ]
       ],
       "datasetInfos": [],
       "dbfsResultPath": null,
       "isJsonSchema": true,
       "metadata": {},
       "overflow": false,
       "plotOptions": {
        "customPlotOptions": {},
        "displayType": "table",
        "pivotAggregation": null,
        "pivotColumns": null,
        "xColumns": null,
        "yColumns": null
       },
       "removedWidgets": [],
       "schema": [
        {
         "metadata": "{}",
         "name": "yt_user",
         "type": "\"string\""
        },
        {
         "metadata": "{}",
         "name": "year_month",
         "type": "\"string\""
        },
        {
         "metadata": "{}",
         "name": "total_posts",
         "type": "\"long\""
        }
       ],
       "type": "table"
      }
     },
     "output_type": "display_data"
    }
   ],
   "source": [
    "min_date = df_posts.select(F.min(\"published_at\")).first()[0]\n",
    "max_date = df_posts.select(F.max(\"published_at\")).first()[0]\n",
    "\n",
    "n_months = int(df_posts.select(\n",
    "    F.months_between(F.lit(max_date), F.lit(min_date))\n",
    ").first()[0]) + 1\n",
    "\n",
    "months_seq = spark.range(0, n_months).withColumn(\n",
    "    \"year_month\",\n",
    "    F.date_format(\n",
    "        F.add_months(F.lit(min_date), F.col(\"id\")),\n",
    "        \"yyyy-MM\"\n",
    "    )\n",
    ").select(\"year_month\").distinct()\n",
    "\n",
    "users = df_posts.select(\"yt_user\").distinct()\n",
    "\n",
    "users_months = users.crossJoin(months_seq)\n",
    "\n",
    "df_posts_monthly_full = users_months.join(\n",
    "    df_posts_monthly,\n",
    "    on=[\"yt_user\", \"year_month\"],\n",
    "    how=\"left\"\n",
    ").fillna(0, subset=[\"total_posts\"]).orderBy(\"yt_user\", \"year_month\")\n",
    "\n",
    "print(\"▶️ Total de posts por mês por creator (com 0 onde não tem post):\")\n",
    "display(df_posts_monthly_full)"
   ]
  },
  {
   "cell_type": "markdown",
   "metadata": {
    "application/vnd.databricks.v1+cell": {
     "cellMetadata": {},
     "inputWidgets": {},
     "nuid": "19e3d08b-a325-4d6e-961c-c731e32975ec",
     "showTitle": false,
     "tableResultSettingsMap": {},
     "title": ""
    }
   },
   "source": [
    "## \uD83D\uDD04 Pivot mensal de posts\n",
    "Transforma os dados em formato mensal (séries temporais) para facilitar análises de evolução ao longo do tempo.\n"
   ]
  },
  {
   "cell_type": "code",
   "execution_count": 0,
   "metadata": {
    "application/vnd.databricks.v1+cell": {
     "cellMetadata": {
      "byteLimit": 2048000,
      "rowLimit": 10000
     },
     "inputWidgets": {},
     "nuid": "a97ebd0d-9bfd-49a1-948d-69d3a9140878",
     "showTitle": false,
     "tableResultSettingsMap": {},
     "title": ""
    }
   },
   "outputs": [
    {
     "output_type": "stream",
     "name": "stdout",
     "output_type": "stream",
     "text": [
      "▶️ Tabela pivotada com user_id x meses:\n+-----------------+-------+-------+-------+-------+-------+-------+-------+-------+-------+-------+-------+-------+\n|yt_user          |2023-04|2023-05|2023-06|2023-07|2023-08|2023-09|2023-10|2023-11|2023-12|2024-01|2024-02|2024-03|\n+-----------------+-------+-------+-------+-------+-------+-------+-------+-------+-------+-------+-------+-------+\n|tedx Talks       |401    |1028   |1136   |840    |767    |680    |702    |846    |673    |683    |585    |522    |\n|CanalKondZilla   |26     |64     |27     |26     |21     |20     |23     |22     |21     |17     |25     |37     |\n|LuisitoComunica  |5      |12     |11     |9      |9      |18     |12     |8      |9      |6      |15     |10     |\n|checkgate        |8      |22     |26     |28     |23     |14     |13     |17     |14     |17     |22     |29     |\n|MoreZoella       |1      |0      |0      |5      |30     |2      |3      |0      |1      |0      |0      |0      |\n|luccasneto       |27     |56     |44     |48     |28     |32     |18     |45     |46     |45     |37     |43     |\n|portadosfundos   |12     |28     |27     |27     |27     |26     |28     |25     |27     |26     |23     |25     |\n|DottieChicken    |0      |0      |0      |0      |0      |0      |1      |0      |0      |0      |0      |0      |\n|raywilliamjohnson|22     |49     |53     |51     |47     |62     |62     |60     |61     |46     |57     |55     |\n|tedtalksdirector |18     |33     |27     |21     |24     |28     |29     |24     |22     |25     |25     |36     |\n|PewDiePie        |1      |3      |3      |0      |2      |4      |3      |4      |3      |2      |3      |4      |\n|felipeneto       |18     |39     |30     |35     |39     |28     |22     |25     |21     |0      |71     |36     |\n|GallinaPintadita |0      |1      |0      |0      |0      |0      |1      |0      |0      |0      |0      |0      |\n|Pirulla25        |5      |3      |5      |7      |5      |7      |4      |5      |8      |6      |3      |6      |\n+-----------------+-------+-------+-------+-------+-------+-------+-------+-------+-------+-------+-------+-------+\n\n"
     ]
    }
   ],
   "source": [
    "df_pivot = df_posts_monthly_full.groupBy(\"yt_user\") \\\n",
    "    .pivot(\"year_month\") \\\n",
    "    .agg(F.first(\"total_posts\")) \\\n",
    "    .fillna(0)\n",
    "\n",
    "print(\"▶️ Tabela pivotada com user_id x meses:\")\n",
    "df_pivot.show(truncate=False)"
   ]
  }
 ],
 "metadata": {
  "application/vnd.databricks.v1+notebook": {
   "computePreferences": {
    "hardware": {
     "accelerator": null,
     "gpuPoolId": null,
     "memory": "HIGH"
    }
   },
   "dashboards": [],
   "environmentMetadata": {
    "base_environment": "",
    "environment_version": "4"
   },
   "inputWidgetPreferences": null,
   "language": "python",
   "notebookMetadata": {
    "pythonIndentUnit": 4
   },
   "notebookName": "4 - analyze_creators.py",
   "widgets": {}
  },
  "language_info": {
   "name": "python"
  }
 },
 "nbformat": 4,
 "nbformat_minor": 0
}